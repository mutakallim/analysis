{
 "cells": [
  {
   "cell_type": "code",
   "execution_count": 3,
   "metadata": {},
   "outputs": [],
   "source": [
    "import pandas as pd\n",
    "from airflow import DAG\n",
    "from airflow.operators.python_operator import PythonOperator\n",
    "from datetime import datetime\n",
    "import sys\n",
    "\n",
    "%config IPCompleter.greedy = True"
   ]
  },
  {
   "cell_type": "code",
   "execution_count": 4,
   "metadata": {},
   "outputs": [],
   "source": [
    "def x():\n",
    "    return print('Hello')"
   ]
  },
  {
   "cell_type": "code",
   "execution_count": null,
   "metadata": {},
   "outputs": [],
   "source": [
    "default_args = {\n",
    "    'owner': 'osilyutina',\n",
    "    'depends_on_past': False,\n",
    "    'start_date': datetime(2019, 2, 20),\n",
    "    'retries': 0\n",
    "}\n",
    "\n",
    "dag = DAG('hello_world_graph_example', \n",
    "    default_args=default_args,\n",
    "    schedule_interval='00 12 * * 1')\n",
    "\n",
    "def hello():\n",
    "    return sys.path\n",
    "\n",
    "bash_operator1 = BashOperator(\n",
    "                    task_id='bash_operator1',\n",
    "                    bash_command='python /home/airflow/airflow/dags/example_script.py',\n",
    "                    dag=dag)\n",
    "\n",
    "python_operator2 = PythonOperator(task_id='python_operator2', \n",
    "                    python_callable=hello,\n",
    "                    dag=dag)\n",
    "\n",
    "python_operator3 = PythonOperator(task_id='python_operator3', \n",
    "                    python_callable=hello,\n",
    "                    dag=dag)\n",
    "bash_operator1 >> python_operator2 >> python_operator3"
   ]
  }
 ],
 "metadata": {
  "kernelspec": {
   "display_name": "Python 3",
   "language": "python",
   "name": "python3"
  },
  "language_info": {
   "codemirror_mode": {
    "name": "ipython",
    "version": 3
   },
   "file_extension": ".py",
   "mimetype": "text/x-python",
   "name": "python",
   "nbconvert_exporter": "python",
   "pygments_lexer": "ipython3",
   "version": "3.7.3"
  }
 },
 "nbformat": 4,
 "nbformat_minor": 4
}
